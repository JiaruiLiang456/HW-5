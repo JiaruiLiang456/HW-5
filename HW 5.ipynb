{
 "cells": [
  {
   "cell_type": "markdown",
   "id": "5ae681ef",
   "metadata": {},
   "source": [
    "# STA130 Homework 05 \n",
    "\n",
    "Please see the course [wiki-textbook](https://github.com/pointOfive/stat130chat130/wiki) for the list of topics covered in this homework assignment, and a list of topics that might appear during ChatBot conversations which are \"out of scope\" for the purposes of this homework assignment (and hence can be safely ignored if encountered)"
   ]
  },
  {
   "cell_type": "markdown",
   "id": "cf135c01",
   "metadata": {},
   "source": [
    "<details class=\"details-example\"><summary style=\"color:blue\"><u>Introduction</u></summary>\n",
    "\n",
    "### Introduction\n",
    "    \n",
    "A reasonable characterization of STA130 Homework is that it simply defines a weekly reading comprehension assignment. \n",
    "Indeed, STA130 Homework essentially boils down to completing various understanding confirmation exercises oriented around coding and writing tasks.\n",
    "However, rather than reading a textbook, STA130 Homework is based on ChatBots so students can interactively follow up to clarify questions or confusion that they may still have regarding learning objective assignments.\n",
    "\n",
    "> Communication is a fundamental skill underlying statistics and data science, so STA130 Homework based on ChatBots helps practice effective two-way communication as part of a \"realistic\" dialogue activity supporting underlying conceptual understanding building. \n",
    "\n",
    "It will likely become increasingly tempting to rely on ChatBots to \"do the work for you\". But when you find yourself frustrated with a ChatBots inability to give you the results you're looking for, this is a \"hint\" that you've become overreliant on the ChatBots. Your objective should not be to have ChatBots \"do the work for you\", but to use ChatBots to help you build your understanding so you can efficiently leverage ChatBots (and other resources) to help you work more efficiently.<br><br>\n",
    "\n",
    "</details>\n",
    "\n",
    "<details class=\"details-example\"><summary style=\"color:blue\"><u>Instructions</u></summary>\n",
    "\n",
    "### Instructions\n",
    "    \n",
    "1. Code and write all your answers (for both the \"Pre-lecture\" and \"Post-lecture\" HW) in a python notebook (in code and markdown cells) \n",
    "    \n",
    "> It is *suggested but not mandatory* that you complete the \"Pre-lecture\" HW prior to the Monday LEC since (a) all HW is due at the same time; but, (b) completing some of the HW early will mean better readiness for LEC and less of a \"procrastentation cruch\" towards the end of the week...\n",
    "    \n",
    "2. Paste summaries of your ChatBot sessions (including link(s) to chat log histories if you're using ChatGPT) within your notebook\n",
    "    \n",
    "> Create summaries of your ChatBot sessions by using concluding prompts such as \"Please provide a summary of our exchanges here so I can submit them as a record of our interactions as part of a homework assignment\" or, \"Please provide me with the final working verson of the code that we created together\"\n",
    "    \n",
    "3. Save your python jupyter notebook in your own account and \"repo\" on [github.com](github.com) and submit a link to that notebook though Quercus for assignment marking<br><br>\n",
    "\n",
    "</details>\n",
    "\n",
    "<details class=\"details-example\"><summary style=\"color:blue\"><u>Prompt Engineering?</u></summary>\n",
    "    \n",
    "### Prompt Engineering? \n",
    "    \n",
    "The questions (as copy-pasted prompts) are designed to initialize appropriate ChatBot conversations which can be explored in the manner of an interactive and dynamic textbook; but, it is nonetheless **strongly recommendated** that your rephrase the questions in a way that you find natural to ensure a clear understanding of the question. Given sensible prompts the represent a question well, the two primary challenges observed to arise from ChatBots are \n",
    "\n",
    "1. conversations going beyond the intended scope of the material addressed by the question; and, \n",
    "2. unrecoverable confusion as a result of sequential layers logial inquiry that cannot be resolved. \n",
    "\n",
    "In the case of the former (1), adding constraints specifying the limits of considerations of interest tends to be helpful; whereas, the latter (2) is often the result of initial prompting that leads to poor developments in navigating the material, which are likely just best resolve by a \"hard reset\" with a new initial approach to prompting.  Indeed, this is exactly the behavior [hardcoded into copilot](https://answers.microsoft.com/en-us/bing/forum/all/is-this-even-normal/0b6dcab3-7d6c-4373-8efe-d74158af3c00)...\n",
    "\n",
    "</details>"
   ]
  },
  {
   "cell_type": "markdown",
   "id": "40da15ca",
   "metadata": {},
   "source": [
    "### Marking Rubric (which may award partial credit) \n",
    "\n",
    "- [0.1 points]: All relevant ChatBot summaries [including link(s) to chat log histories if you're using ChatGPT] are reported within the notebook\n",
    "- [0.3 points]: Evaluation of written communication for \"Question 2\"\n",
    "- [0.3 points]: Evaluation of written communication for \"Question 4\"\n",
    "- [0.3 points]: Evalution of submission for \"Question 8\"\n"
   ]
  },
  {
   "cell_type": "code",
   "execution_count": 1,
   "id": "b5b61767",
   "metadata": {},
   "outputs": [],
   "source": [
    "import numpy as np\n",
    "import matplotlib.pyplot as plt\n",
    "from scipy.stats import binom"
   ]
  },
  {
   "cell_type": "markdown",
   "id": "ed03b20c",
   "metadata": {},
   "source": [
    "## \"Pre-lecture\" HW [*completion prior to next LEC is suggested but not mandatory*]"
   ]
  },
  {
   "cell_type": "markdown",
   "id": "bda4eb39",
   "metadata": {},
   "source": [
    "### A. Watch this first pre-lecture video (\"Hypothesis testing. Null vs alternative\") addressing the question \"What is a hypothesis?\"<br>\n",
    "\n",
    "<details class=\"details-example\"><summary style=\"color:blue\"><u>Further Guidance</u></summary>\n",
    "    \n",
    "> _The video gives the example that the \"Hillary versus Trump\" U.S. presidential election campaign could not be turned into a hypothesis test assessing differences in performance between the two as U.S. presidents (because at the time of the election neither had been U.S. presidents). This is different than addressing \"Obama versus Bush\" within a hypothesis testing framework (because we have eight years worth of performance of both as U.S. presidents). A more contemporarily relevant comparison then would be the aborted election campaign efforts of \"Biden versus Trump\", which would have been a chimeric hybrid of the two comparisons mentioned above (because we have BOTH four years worth of DATA regarding the performance of both as U.S. presidents BUT we are also likely still [...or, were, prior to Biden dropping out of the presidential race...] interested in asking questions regarding their potential FUTURE performance of both as U.S. presidents for which we do not yet have any data). Anway, despite Biden dropping out of the election, we might still attempt to consider the record of the Biden presidency to be informative and predictive about the furture peformance of a potential Kamala Harris presidency._\n",
    "> \n",
    "> _This hopefully (a) makes the examples of the video more contemporarily relevant, and (b) gives another example to further emphasize and contrast the distinction that's being made in the video._\n",
    ">\n",
    "> _Also, while these are relatively knit-picky, two technical issues that the video somewhat inaccurately introduces are:_\n",
    ">\n",
    "> - _the video states that \"we accept the null hypothesis\"; but, actually it would be more correct to say, \"we fail to reject the null hypothesis\"_\n",
    "> - _the video specifies \"less than\" for the null hypothesis and \"less than or equal\" for the alternative hypothesis; but, actually, for mathematic reasons \"less than or equal\" version is the more technically correct choice for how the null hypothesis should be specified_\n",
    "    \n",
    "</details>"
   ]
  },
  {
   "cell_type": "code",
   "execution_count": null,
   "id": "3c792af3",
   "metadata": {
    "scrolled": false
   },
   "outputs": [],
   "source": [
    "from IPython.display import YouTubeVideo\n",
    "# First pre-lecture video: \n",
    "# \"Hypothesis testing. Null vs alternative\n",
    "# https://www.youtube.com/watch?v=ZzeXCKd5a18\n",
    "YouTubeVideo('ZzeXCKd5a18', width=800, height=500)"
   ]
  },
  {
   "cell_type": "markdown",
   "id": "f191182b",
   "metadata": {},
   "source": [
    "### B. Watch this second pre-lecture video (\"What is a p-value\") providing an intuitivie introduction to p-values <br>\n",
    "\n",
    "<details class=\"details-example\"><summary style=\"color:blue\"><u>Further Guidance</u></summary>\n",
    "    \n",
    "> _This is intended to help you initially make more sense of the technical definition of a p-value, **the probability that a test statistic is as or more extreme than the observed test statistic if the null hypothesis was true**._\n",
    ">\n",
    "> _The thing is though, once you understand a p-value is, then you'll see how simple and elegant the above definition is... So, your objective in learning what a p-value is should be to be able to read and understand the definition of a p-value given above effortlessly... That way you can communicate with the language of statistical reasoning in 3.5 seconds rather than 3.5 minutes..._\n",
    "    \n",
    "</details>"
   ]
  },
  {
   "cell_type": "code",
   "execution_count": null,
   "id": "79c80048",
   "metadata": {},
   "outputs": [],
   "source": [
    "from IPython.display import YouTubeVideo\n",
    "# Second pre-lecture video\n",
    "# \"What is a p-value\"\n",
    "# https://www.youtube.com/watch?v=9jW9G8MO4PQ\n",
    "YouTubeVideo('9jW9G8MO4PQ', width=800, height=500)"
   ]
  },
  {
   "cell_type": "markdown",
   "id": "045c8058",
   "metadata": {},
   "source": [
    "### 1. The \"first pre-lecture video\" (above) describes hypothesis testing as addressing \"an idea that can be tested\", and the end of the video then discusses what our actual intended purpose in setting up a null hypothesis is. What is the key factor that makes the difference between ideas that can, and cannot be examined and tested statistically?  What would you describe is the key \"criteria\" defining what a good null hypothesis is? And what is the difference between a null hypothesis and an alternative hypothesis in the context of hypothesis testing? Answer these questions with concise explanations in your own words.<br>\n",
    "\n",
    "<details class=\"details-example\"><summary style=\"color:blue\"><u>Further Guidance</u></summary>\n",
    "\n",
    "> _After watching and understanding both of the videos above, you should be well equipped to answer this and the following few questions. But, you can also interact with your favourite ChatBot to see if you understand the concepts correctly and to clarify any open questions you might have about anything that still seems unclear._\n",
    ">\n",
    "> HOWEVER, as we increasingly tread into the more conceptual statistical concepts of STA130, \"vanilla\" ChatBots become less and less reilable.\n",
    "> 1. First, \"vanilla\" ChatBots don't know the constraints and scope of the learning objectives of STA130, so in addition to their often verbose nature, they now present the possible risk of tangenting onto topics that do not concern (but may nonetheless potentially confuse and distract) us\n",
    "> 2. Second, ChatBots are based on textual information online, and while much of this information is accurate and well articulated, there is also a not insignificant presense of confusion and misunderstanding of statistical concepts and topics online. The downside of this is that since ChatBots don't \"reasons\" but instead just actually \"regurgitate\" the freqently occuring patterns between words found in text, it's increasingly possible that responses ChatBots will in fact amount to only meaningless gibberish nonensense.\n",
    ">\n",
    "> **Therefore, it is recommended that students begin considering and exploring increasingly relying on the STA130 Custom NotebookLM (NBLM) ChatBot** rather than \"vanilla\" ChatBots when it comes to the specific and technical and conceptual statistical topics of STA130.**\n",
    ">\n",
    "> _Don't forget to ask for summaries of your ChatBot session(s) and paste these into your homework notebook (including link(s) to chat log histories if you're using ChatGPT) if you are using a ChatBot interaction to help learn and understand something!_\n",
    ">\n",
    "> In the case of the custom NBLM ChatBot, you can't get a transcript of your conversation, unfortunately (since converational history records outside of an active NBLM ChatBot session are made available to you in the future...); but, that's perfectly fine regarding the requirement of the homework which is only that a summary of any ChatBot interactions is provided with the submission. \n",
    "\n",
    "</details>\n"
   ]
  },
  {
   "cell_type": "markdown",
   "id": "2537929c",
   "metadata": {},
   "source": [
    "First, the key factor that makes the difference between ideas that can, and cannot by examined and tested statistically is measurability. The idea can must be measurable, and we can collect respond data to get stastics about the idea. Second, there are keys criterias defining what a good null hypothesis is. The null hypoothesis must describe a relaton or effect between variables in measurable terms clearly. And like what I mention before, the null hypothesis must need to be mesuable. And a good null hypothesis need to be assumed in a general situation, which no effect, factors influenced. The difference between a null hypothesisi and an alternative hypothesisi in the context of hypothesis testing is null hypothesis is represented as H0 and alternative hypothesis is represented as HA or H1. And a null hypothesis always assume a general situation, which no other factors affect it. By contrast, a alternative hypothesisi is assumed, which considered series of factors. For instance, if we want to make hyphthesisi about coin tossing, the probability of the front side up, H0 is probability is 1/2 because it's generally. And the alternative hypothesisi is not equal to 1/2 because it considers some external factors may make the probability not equal to 50%."
   ]
  },
  {
   "cell_type": "markdown",
   "id": "46a73c8d",
   "metadata": {},
   "source": [
    "# Summary\n",
    "Summary of Interaction on Hypothesis Testing\n",
    "We discussed key concepts of hypothesis testing, focusing on what makes an idea statistically testable, criteria for a good null hypothesis, and the distinction between a null and alternative hypothesis.\n",
    "\n",
    "Ideas that can be examined and tested statistically:\n",
    "The key factor for an idea to be testable is measurability. Ideas must be expressed in terms of observable and quantifiable data to allow for statistical comparison. Without measurable data, statistical tests cannot be performed.\n",
    "Criteria for a Good Null Hypothesis:\n",
    "A good null hypothesis is:\n",
    "Clear and specific: It must be defined in a measurable way.\n",
    "Testable: The hypothesis can be empirically tested using statistical methods.\n",
    "Falsifiable: It should be structured in a way that allows for the possibility of being proven wrong.\n",
    "Neutral or default: It assumes no effect, no relationship, or no difference, serving as the starting point for statistical testing.\n",
    "Example: \"There is no difference in recovery rates between patients who take the new drug and those who do not.\"\n",
    "Difference between Null and Alternative Hypotheses:\n",
    "Null Hypothesis (\n",
    "H\n",
    "0\n",
    "H \n",
    "0\n",
    "​\t\n",
    " ): Represents the default assumption that there is no effect or difference. It suggests that any observed changes are due to random chance.\n",
    "Example: \"There is no difference in average test scores between students who study with flashcards and those who do not.\"\n",
    "Alternative Hypothesis (\n",
    "H\n",
    "A\n",
    "H \n",
    "A\n",
    "​\t\n",
    " ): Represents the researcher's claim that there is an effect or difference. It is what the researcher seeks to support through the analysis of data.\n",
    "Example: \"Students who study with flashcards have higher average test scores than those who do not.\""
   ]
  },
  {
   "cell_type": "markdown",
   "id": "a46e0403",
   "metadata": {},
   "source": [
    "# Link\n",
    "https://chatgpt.com/share/670d8077-b394-800f-905f-12d1fbab44ff"
   ]
  },
  {
   "cell_type": "markdown",
   "id": "5d4637b0",
   "metadata": {},
   "source": [
    "### 2. Towards the end of the \"first pre-lecture\" video (above) it is stated that, \"It is important to note that outcomes of tests refer to the population parameter, rather than the sample statistic! As such, the result that we get is for the population.\" In terms of the distinctions between the concepts of $x_i\\!$'s, $\\bar x$, $\\mu$, and $\\mu_0$, how would you describe what the sentence above means? Explain this concisely in your own words for a \"non-statsitical\" audience, defining the technical statistical terminology you use in your answer.<br>\n",
    "\n",
    "<details class=\"details-example\"><summary style=\"color:blue\"><u>Further Guidance</u></summary>\n",
    "\n",
    "> _A formal **null hypothesis** has the form $H_0: \\mu=\\mu_0$ which states that the average value $\\mu$ of the population is $\\mu_0$, while the **alternative hypothesis** would then be $H_A: H_0 \\text{ is false}$ which states the average value $\\mu$ of the population is not $\\mu_0$. This question asks for a clear explanation of the distinguishing characteristics of the between the concepts of observed sample values $x_i$ (for $i = 1, \\cdots, n$), the observed sample average $\\bar x$, the actual value of $\\mu$, and the value $\\mu_0$ hypothesized under the null hypothesis relative to hypothesis testing._   \n",
    "> \n",
    "> _This question extends \"Question 7\" from the Week 4 HW that you considered last week in a more formal manner in terms of hypothesis testing notation. It should be getting much easier to delineate the differences between parameters and populations, and samples and statistics; and, to understand how to interpret and apply these concepts in the context of new topics (such as hypothesis testing, as is done here)._ \n",
    "> \n",
    "> _As continually suggested and encouraged regarding the topics of parameters, populations, samples, and statistics, check with your notes or your favourite ChatBot to make sure you have a clear understanding of these terms. At this point in the course, you should be able to read and understand of the meaning of the termenologically dense sentence addressed in the prompt to this question!_ \n",
    ">\n",
    "> Don't forget to ask for summaries of your ChatBot session(s) if you are using a ChatBot interaction to help learn and understand something! You only need to include link(s) to chat log histories if you're using ChatGPT, e.g., if you're using the custom STA130 NBLM ChatBot you can't get chat history logs, but you can get summaries, so just paste these into your homework notebook and indicate the both you're using if it can't provide links to chat log histories.\n",
    "    \n",
    "    \n",
    "\n",
    "</details>\n"
   ]
  },
  {
   "cell_type": "markdown",
   "id": "fa9eca9e",
   "metadata": {},
   "source": [
    "𝑥𝑖 denotes each data point in the sample. 𝑥¯ represents the sample mean, while 𝜇 represents the population mean. 𝜇0 represents the estimated population mean.\n",
    "When using sample data to generate statistics, the sample statistic, x̄, is subjected to hypothesis testing. The test aims to draw conclusions or make claims about the population parameter (μ) rather than the sample itself."
   ]
  },
  {
   "cell_type": "markdown",
   "id": "bd55a7f9",
   "metadata": {},
   "source": [
    "# Summary\n",
    "Question: You shared a quote from a video that stated, \"It is important to note that outcomes of tests refer to the population parameter, rather than the sample statistic! As such, the result that we get is for the population,\" and asked for an explanation in terms of the statistical concepts 𝑥𝑖, 𝑥¯, 𝜇, and 𝜇₀ for a \"non-statistical\" audience.\n",
    "Response: I explained that the quote refers to the distinction between sample data (what we observe) and the population (what we are ultimately interested in). I defined the following terms:\n",
    "\n",
    "𝑥𝑖: Individual data points in the sample.\n",
    "𝑥¯: The sample mean (average).\n",
    "𝜇: The true mean of the entire population.\n",
    "𝜇₀: A hypothetical or specific population mean we are testing.\n",
    "I summarized that the test uses the sample data to make inferences about the population, with the goal being to understand the population's true average (𝜇), not just the sample's average (𝑥¯)."
   ]
  },
  {
   "cell_type": "markdown",
   "id": "f90b2ff5",
   "metadata": {},
   "source": [
    "# Link\n",
    "https://chatgpt.com/share/670d80b6-0820-800f-8592-ec5428d58a29"
   ]
  },
  {
   "cell_type": "markdown",
   "id": "fb2acde6",
   "metadata": {},
   "source": [
    "### 3. The second \"Pre-lecture\" video (above) explains that we \"imagine a world where the null hypothesis is true\" when calculating a p-value? Explain why this is in your own words in a way that makes the most sense to you.<br>\n",
    "\n",
    "<details class=\"details-example\"><summary style=\"color:blue\"><u>Further Guidance</u></summary>\n",
    "\n",
    "> _Hint: your answer will likely be most efficiently correct and clear if it discusses the relavence of the sampling distribution of the test statistic under the null hypothesis._\n",
    "    \n",
    "</details>"
   ]
  },
  {
   "cell_type": "markdown",
   "id": "e71020c5",
   "metadata": {},
   "source": [
    "When we imagine the null hypothesis is true when calculating a p-value because we want to know how likely is it that we'd observe data at least as extreme as what we did when we assume the null hypothesis. Throught the data out of the extreme value, we can get the p-value and know the probability to reject the null hypothesis after comparing to significant level."
   ]
  },
  {
   "cell_type": "markdown",
   "id": "8362fa03",
   "metadata": {},
   "source": [
    "### 4. The second \"Pre-lecture\" video (above) describes suggest that a smaller p-value makes the null hypothesis look more ridiculous. Explain why this is in your own words in a way that makes the most sense to you, clarifying the meaning of any technical statistical terminology you use in your answer.<br>\n",
    "\n",
    "<details class=\"details-example\"><summary style=\"color:blue\"><u>Further Guidance</u></summary>\n",
    "\n",
    "> _Hint: your answer will likely be most efficiently correct and clear if it discusses how the observed test statistic relates to the sampling distribution of the test statistic under the null hypothesis._\n",
    "    \n",
    "</details> "
   ]
  },
  {
   "cell_type": "markdown",
   "id": "09dd6906",
   "metadata": {},
   "source": [
    "A smaller p-value makes the null hypothesis look more ridiculous because the function to get the p-value is the time of value excess of the testing statistics over the total sample size. If the p-value is small, there are few times the outcome exceeds the testing statistics, so the null hypothesis looks more ridiculous and it cannot describe the distribution well."
   ]
  },
  {
   "cell_type": "markdown",
   "id": "6b1e9c25",
   "metadata": {},
   "source": [
    "### 5. Güntürkün (2003) recorded how kissing couples tilt their heads. 80 out of 124 couples, or 64.5% tilted their heads to the right. Simulate a **p-value** using a \"50/50 coin-flipping\" model for the assumption of the **null hypothesis** $H_0$ that the population of humans don't have left or right head tilt tendencies when kissing, and use the table below to determine the level of evidence we have against $H_0$. <br>\n",
    "\n",
    "<details class=\"details-example\"><summary style=\"color:blue\"><u>Further Guidance</u></summary>\n",
    "\n",
    "> _The previous three \"Questions 2-4\" are highly relevant here. For this question, you need to first (along the lines of \"Question 2\") understand what the problem context describes to you in terms of something analogous to $x_i\\!$'s, $\\bar x$, $\\mu$, and $\\mu_0$. Then you need to (along the lines of \"Question 3\") figure out how to \"imagine a world where the null hypothesis is true\" so that you can go about computing a (**simulation** based) p-value calcuation for the null hypothesis under consideration relative to the available data. And finally, you need to make a determination about your potential decision to reject the null hypothesis on the strength of the data at hand on the basis of the \"strength of evidence\" table given below (which indeed supports the necessary interpretation required to provide an explanation answering \"Question 4\")._\n",
    ">    \n",
    "> _Regarding Güntürkün (2003) itself, click [here](https://www.nature.com/articles/news030210-7) if you want to know more!_    \n",
    "    \n",
    "</details> \n",
    "\n",
    "\n",
    "|p-value|Evidence|\n",
    "|-|-|\n",
    "|$$p > 0.1$$|No evidence against the null hypothesis|\n",
    "|$$0.1 \\ge p > 0.05$$|Weak evidence against the null hypothesis|\n",
    "|$$0.05 \\ge p > 0.01$$|Moderate evidence against the null hypothesis|\n",
    "|$$0.01 \\ge p > 0.001$$|Strong evidence against the null hypothesis|\n",
    "|$$0.001 \\ge p$$|Very strong evidence against the null hypothesis|\n",
    "\n",
    "![Rodin's sculpture, \"The Kiss\"\n",
    "](https://upload.wikimedia.org/wikipedia/commons/thumb/d/d1/Rodin_-_Le_Baiser_06.jpg/409px-Rodin_-_Le_Baiser_06.jpg)\n"
   ]
  },
  {
   "cell_type": "markdown",
   "id": "4d11be4f",
   "metadata": {},
   "source": [
    "𝑥𝑖 is the head tilt of the i-th couple's. If the couple tilt their heads to the left, we seen as xi=0, and vice versa, xi=1 if their heads tilt to right.𝑥¯ is the mean of sample,it's 80/124=0.645. 𝜇 is the true population proportion of couples tilting to the right. 𝜇0 is the hypothesized population proportion under the null hypothesis that there is no preference, which means 𝜇0=1/2.\n",
    "In this case, the null hypothesis is the probability of couple tile their head to the left or right is half and half."
   ]
  },
  {
   "cell_type": "code",
   "execution_count": 4,
   "id": "fa4454a1",
   "metadata": {},
   "outputs": [
    {
     "data": {
      "image/png": "[encoded data removed]",
      "text/plain": [
       "<Figure size 640x480 with 1 Axes>"
      ]
     },
     "metadata": {},
     "output_type": "display_data"
    },
    {
     "data": {
      "text/plain": [
       "0.0009"
      ]
     },
     "execution_count": 4,
     "metadata": {},
     "output_type": "execute_result"
    }
   ],
   "source": [
    "# Parameters\n",
    "n_couples = 124  # Number of couples\n",
    "observed_proportion = 80 / 124  # Observed proportion of couples tilting right\n",
    "p_null = 0.5  # Null hypothesis: probability of tilting right\n",
    "n_simulations = 10000  # Number of simulations\n",
    "\n",
    "# Simulation under H0: Flip a \"fair coin\" for each couple\n",
    "simulated_proportions = np.random.binomial(n_couples, p_null, n_simulations) / n_couples\n",
    "\n",
    "# Calculate p-value: proportion of simulated proportions as extreme or more extreme than observed\n",
    "extreme_proportions = np.abs(simulated_proportions - p_null) >= np.abs(observed_proportion - p_null)\n",
    "p_value = np.mean(extreme_proportions)\n",
    "\n",
    "# Plot the simulation distribution\n",
    "plt.hist(simulated_proportions, bins=30, edgecolor='k', alpha=0.7)\n",
    "plt.axvline(observed_proportion, color='r', linestyle='dashed', linewidth=2, label=f'Observed Proportion: {observed_proportion:.3f}')\n",
    "plt.title('Simulation Distribution of Proportion of Right Tilts')\n",
    "plt.xlabel('Proportion of Right Tilts')\n",
    "plt.ylabel('Frequency')\n",
    "plt.legend()\n",
    "plt.show()\n",
    "\n",
    "# Output the p-value\n",
    "p_value\n"
   ]
  },
  {
   "cell_type": "markdown",
   "id": "987e5fdf",
   "metadata": {},
   "source": [
    "Because p-value =0.0009, which is smaller than 0.0001 so that there are very strong evidence to against the null hypothesis."
   ]
  },
  {
   "cell_type": "markdown",
   "id": "1f2852ab",
   "metadata": {},
   "source": [
    "# Summary\n",
    "Problem Context Introduction:\n",
    "We discussed a study by Güntürkün (2003) which observed that 80 out of 124 couples (64.5%) tilted their heads to the right while kissing.\n",
    "The objective was to assess whether this observed preference is statistically significant or could be due to chance, under the null hypothesis \n",
    "H\n",
    "0\n",
    "H \n",
    "0\n",
    "​\t\n",
    "  that there is no preference for left or right head tilting (i.e., \n",
    "μ\n",
    "0\n",
    "=\n",
    "0.5\n",
    "μ \n",
    "0\n",
    "​\t\n",
    " =0.5).\n",
    "Statistical Notation Clarification:\n",
    "x\n",
    "i\n",
    "x \n",
    "i\n",
    "​\t\n",
    " : Represents the head tilt of the \n",
    "i\n",
    "i-th couple (1 for right tilt, 0 for left tilt).\n",
    "x\n",
    "ˉ\n",
    "x\n",
    "ˉ\n",
    " : The sample proportion of right head tilts (\n",
    "x\n",
    "ˉ\n",
    "=\n",
    "0.645\n",
    "x\n",
    "ˉ\n",
    " =0.645).\n",
    "μ\n",
    "μ: The true population proportion of right tilts.\n",
    "μ\n",
    "0\n",
    "μ \n",
    "0\n",
    "​\t\n",
    " : The hypothesized population proportion under the null hypothesis (\n",
    "μ\n",
    "0\n",
    "=\n",
    "0.5\n",
    "μ \n",
    "0\n",
    "​\t\n",
    " =0.5).\n",
    "Simulation Approach:\n",
    "We planned to simulate a scenario where couples randomly tilt their heads with a 50/50 probability to model the null hypothesis.\n",
    "The steps included simulating head tilts, calculating the proportions, and determining the p-value to assess the evidence against \n",
    "H\n",
    "0\n",
    "H \n",
    "0\n",
    "​\t\n",
    " .\n",
    "Python Simulation Code:\n",
    "I provided a Python code snippet to simulate the head tilting process, visualize the results, and calculate the p-value based on 10,000 trials.\n",
    "Simulation Results:\n",
    "After running the simulation, the resulting histogram showed the distribution of simulated proportions of right tilts.\n",
    "The computed p-value was 0.0022, indicating strong evidence against the null hypothesis, suggesting a significant preference for tilting the head to the right while kissing.\n",
    "Conclusion:\n",
    "The low p-value (0.0022) indicates that the observed head-tilting preference is unlikely to occur by chance, leading us to conclude that there is a significant preference for rightward head tilting among kissing couples."
   ]
  },
  {
   "cell_type": "markdown",
   "id": "37d4e1e5",
   "metadata": {},
   "source": [
    "# Link\n",
    "https://chatgpt.com/share/670d898a-c3d8-800f-bd27-02eb33acf556"
   ]
  },
  {
   "cell_type": "markdown",
   "id": "b4131b13",
   "metadata": {},
   "source": [
    "<details class=\"details-example\"><summary style=\"color:blue\"><u>Continue now...?</u></summary>\n",
    "\n",
    "### Pre-lecture VS Post-lecture HW\n",
    "\n",
    "Feel free to work on the \\\"Postlecture\\\" HW below if you're making good progress and want to continue: the next questions will continue addressing and building on the topics from the videos, so, it's just a choice whether or not you want to work a head a little bit...\n",
    "    \n",
    "*The benefits of continue would are that (a) it might be fun to try to tackle the challenge of working through some problems without additional preparation or guidance; and (b) this is a very valable skill to be comfortable with; and (c) it will let you build experience interacting with ChatBots (and beginning to understand their strengths and limitations in this regard)... it's good to have sense of when using a ChatBot is the best way to figure something out, or if another approach (such as course provided resources or a plain old websearch for the right resourse) would be more effective*\n",
    "    \n",
    "</details>    "
   ]
  },
  {
   "cell_type": "markdown",
   "id": "1f8ddd69",
   "metadata": {},
   "source": [
    "## \"Post-lecture\" HW [*submission along with \"Pre-lecture\" HW is due prior to next TUT*]"
   ]
  },
  {
   "cell_type": "markdown",
   "id": "e83c4f25",
   "metadata": {},
   "source": [
    "### 6. Can a smaller p-value definitively prove that the null hypothesis is false? Is it possible to definitively prove that Fido (from the \"second pre-lecture video\") is innocent using a p-value? Is it possible to difinitively prove that Fido is guilty using a p-value? How low or high does a p-value have to be to definitely prove one or the other? Explain this concisely in your own words.<br>"
   ]
  },
  {
   "cell_type": "markdown",
   "id": "9886fa3f",
   "metadata": {},
   "source": [
    "First of all, a maller p-value cannot definitively prove that the null hypothesis is false. Second, it's impossible to definitevly prove that Fido is innocent because the high p-value only means the data is consistent to the null hypothesis. It is not necsssarily true. In addition, it's impossible to difinitively prove that Fido is guilty using a p-value because the small p-value just provide evidence to against the null hypothesis. It doesn't means it is necessarily false. In general, we need to compare p-value to the significance level and significance usually be 0.05 or 0.01 generally. If the p-value bigger than the significane level, it is definitively true because no evidence can provided to reject the null hypothesis."
   ]
  },
  {
   "cell_type": "markdown",
   "id": "87883773",
   "metadata": {},
   "source": [
    "### 7. In the second half of the \"first pre-lecture video\" the concept of a \"one sided\" (or \"one tailed\") test is introduced in contrast to a \"two sided\" (or \"two tailed\") test. Work with a ChatBot to adjust the code from \"Demo II of  the Week 5 TUT\" (which revisits the \"Vaccine Data Analysis Assignment\" from Week 04 HW \"Question 8\") in order to compute a p-value for a \"one sided\" (or \"one tailed\") hypothesis test rather than the \"two sided\" (or \"two tailed\") version it provides. Describe (perhaps with the help of your ChatBot) what changed in the code; how this changes the interpretation of the hypothesis test; and whether or not we should indeed expect the p-value to be smaller in the \"one tailed\" versus \"two tailed\" analysis. <br>\n",
    "\n",
    "<details class=\"details-example\"><summary style=\"color:blue\"><u>Further Guidance</u></summary>\n",
    "\n",
    "> _[Demo II of the The Week 5 TUT](https://github.com/pointOfive/stat130chat130/blob/main/TUT/STA130F24_TUT05_Oct04.ipynb) revisiting the \"[Vaccine Data Analysis Assignment](https://github.com/pointOfive/stat130chat130/blob/main/HW/STA130F24_HW04_DueOct03.ipynb)\" illustrates using simulation to estimate a two-sided (or \"two tailed\") p-value._\n",
    ">\n",
    "> _The notion of \"one sided\" or \"two sided\" tests is also referred to as \"one tailed\" or \"two tailed\" because (other than using \"$\\leq$\" and \"$>$\" [or \"$\\geq$\" and \"$<$\"] rather than \"$=$\" and \"$\\neq$\" when specifying $H_0$ and $H_A$) the actual place where this distinction has a practical impact is in the calculation of p-values, which is done in the \"tails\" of the sampling distribution of the statistic of interest under the assumption that the null hypothesis is true._\n",
    ">\n",
    "> Don't forget to ask for summaries of your ChatBot session(s) if you are using a ChatBot interaction to help learn and understand something! You only need to include link(s) to chat log histories if you're using ChatGPT, e.g., if you're using the custom STA130 NBLM ChatBot you can't get chat history logs, but you can get summaries, so just paste these into your homework notebook and indicate the both you're using if it can't provide links to chat log histories.\n",
    "\n",
    "</details>"
   ]
  },
  {
   "cell_type": "code",
   "execution_count": 6,
   "id": "c7c23949",
   "metadata": {},
   "outputs": [],
   "source": [
    "from scipy import stats\n",
    "\n",
    "# Example values\n",
    "sample_mean = 3.5  # Observed sample mean\n",
    "population_mean = 3.0  # Hypothesized population mean\n",
    "std_dev = 1.0  # Sample standard deviation\n",
    "n = 30  # Sample size\n",
    "\n",
    "# Calculate the test statistic\n",
    "z = (sample_mean - population_mean) / (std_dev / (n**0.5))\n",
    "\n",
    "# Calculate the one-tailed p-value\n",
    "p_value_one_tailed = stats.norm.sf(z)  # For right-tailed test\n",
    "# If left-tailed: p_value_one_tailed = stats.norm.cdf(z)\n"
   ]
  },
  {
   "cell_type": "markdown",
   "id": "c88db1eb",
   "metadata": {},
   "source": [
    "1. Change of code:Ho is equal to a certain but H1 is bigger or smaller than that value. In addition, we only need to consider one side of the value which excess the significance level. The key change is how the p-value is calculated. Instead of doubling the two-tailed p-value, we directly use the survival function (sf for upper tail) or cumulative distribution function (cdf for lower tail) for the one-tailed test.\n",
    "2. Change of the interpretation of the hypothesis test:In a one-tailed hypothesis test, you are testing for an effect in a specific direction (either an increase or a decrease). This focuses the test on detecting significant changes in that specific direction, which can be more powerful for detecting effects when you have a strong prior expectation of the direction.\n",
    "This means if your null hypothesis is rejected, it indicates that the effect is not only statistically significant but also meaningful in the specified direction.\n",
    "3. Expectations Regarding P-value:\n",
    "In many cases, we expect the one-tailed p-value to be smaller than the two-tailed p-value because the one-tailed test only considers one side of the distribution.\n",
    "This can lead to a stronger conclusion about the statistical significance if the observed effect is indeed in the predicted direction. However, if the effect is actually in the opposite direction, the one-tailed test might not capture it, leading to the risk of Type I and Type II errors based on the wrong assumption about directionality.\n",
    "\n"
   ]
  },
  {
   "cell_type": "markdown",
   "id": "6423c5dd",
   "metadata": {},
   "source": [
    "# Summary\n",
    "User Request:\n",
    "The user asked for assistance in adjusting the code from \"Demo II of the Week 5 TUT\" to compute a p-value for a one-tailed hypothesis test instead of a two-tailed test. The user provided a link to the relevant demo and requested explanations on the changes made to the code, the interpretation of the hypothesis test, and the expectations regarding p-values for one-tailed versus two-tailed analyses.\n",
    "\n",
    "Assistance Provided:\n",
    "\n",
    "Code Changes:\n",
    "I explained how to adjust the hypothesis definitions to focus on one-tailed tests by specifying the direction of the alternative hypothesis (greater than or less than).\n",
    "I provided a hypothetical code snippet illustrating how to calculate the test statistic and the p-value for a one-tailed test using Python and the scipy library.\n",
    "Interpretation of Changes:\n",
    "I described how a one-tailed hypothesis test focuses on detecting significant effects in a specific direction, making the results potentially more powerful when the direction is known.\n",
    "Expectations Regarding P-values:\n",
    "I noted that we generally expect the one-tailed p-value to be smaller than the two-tailed p-value when the observed effect aligns with the predicted direction. However, I also highlighted the risks of Type I and Type II errors when the assumption about directionality is incorrect."
   ]
  },
  {
   "cell_type": "markdown",
   "id": "a3929e97",
   "metadata": {},
   "source": [
    "# Link\n",
    "https://chatgpt.com/share/670d99de-3a64-800f-980d-ff11fe88ea2a"
   ]
  },
  {
   "cell_type": "markdown",
   "id": "1c953507",
   "metadata": {},
   "source": [
    "### 8. Complete the following assignment. "
   ]
  },
  {
   "cell_type": "markdown",
   "id": "674f9956",
   "metadata": {},
   "source": [
    "### Fisher's Tea Experiment\n",
    "\n",
    "**Overview**\n",
    "\n",
    "A most beloved piece of [statistical lore](https://rss.onlinelibrary.wiley.com/doi/full/10.1111/j.1740-9713.2012.00620.x) about the (most famous) statistician Ronald Fisher involves cups of tea with milk. Fisher and his friend and colleague, Dr. Muriel Bristol, worked at Cambridge in the 1920s and regularly had tea together. During one of their afternoon tea times, Bristol refused a cup of tea from Fisher because he put milk in first BEFORE pouring in the tea. Bristol said she could taste the difference, and much preferred the taste of tea when the milk was poured in afterward the tea. Fisher didn't think that there could be a difference and proposed a hypothesis test to examine the situation.\n",
    "\n",
    "Fisher made 8 cups of tea, 4 with milk added in first and 4 with tea added in first, and gave them to Dr. Bristol without her seeing how they were made and she would say if she thought the tea or the milk was poured first. As it turned out, Bristol correctly identified if the tea or milk was poured first for all 8 of the cups. Fisher, being a skeptical statistician wanted to test if this could be happening by chance with Bristol just randomly guessing (or whether there was evidence against an assumption of Bristol just randomly guessing), and subsequently designed a statistical hypothesis test to do so.\n",
    "\n",
    "Suppose you run an experiment like this with students in STA130. You get a random sample of 80 STA130 students to each taste one cup of tea and tell you whether they think the milk or tea was poured first. **Suppose 49 students are able to correctly state which was poured first.** Provide a statistical analysis of this experiment as guided through the following set of questions.\n",
    "\n",
    "**Data**\n",
    "\n",
    "49 out of a sample of 80 students are able to correctly state which was poured first.\n",
    "\n",
    "**Deliverables**\n",
    "\n",
    "While you can choose how to approach the project, we are interested in evaluating your report relative to the following deliverables: \n",
    "- Clarity of your documentation, code, and written report \n",
    "- Description of the population (and sample) and parameter of interest (and corresponding observed test statistic) \n",
    "- Formal null hypotheses $H_0$ \n",
    "    - Provide a formal version $H_0$ based on the population parameter \n",
    "    - Provide an informal interpretive statement explaining $H_0$ in more casual everyday common language\n",
    "    - Alternative hypothesis $H_A$ in terms of $H_0$\n",
    "- Quantitative analysis addressing the validity of $H_0$\n",
    "    - Explanation of the method clearly articulating the purpose of the usage of statistic(s) to address $H_0$ the population parameter of interest \n",
    "\n",
    "\n",
    "**Comments**\n",
    "\n",
    "- Regarding the population (and the sample), there is a clear difference between the experiment with STA130 students considered here and the original motivating experimental context of Fisher and Bristol.\n",
    "    - the sample size is different.\n",
    "    - but so too is the nature of the population. the parameter in question might be considered more personalized in the original experiment; whereas, the parameter in the context of STA130 students might be a more abstract concept\n",
    "- The analysis here could be approached from the perspective of formal hypothesis testing.\n",
    "    - which would likely involve the simulation of a sampling distribution under $H_0$ in order to estimate p-value with respect to the null hypothesis based on the observed test statistic (how?), concluding with the assement of $H_0$ based on an interpretation of the meaning of the p-value relative to $H_0$\n",
    "    - but a confidence interval approach to considering the hypothesis could also be considered.\n",
    "\n",
    "> Consider organizing your report within the following outline template.\n",
    "> - Problem Introduction \n",
    ">     - Relationship between this experiment and the original with Fisher and Bristol\n",
    ">     - Statements of the Null Hypothesis and Alternative hypothesis\n",
    "> - Quantitative Analysis\n",
    ">     - Methodology Code and Explanations\n",
    ">     - *(if needed/optional)* Supporting Visualizations \n",
    "> - Findings and Discussion\n",
    ">     - Conclusion regarding the Null Hypothesis\n",
    "\n",
    "#### Further Instructions:\n",
    "- When using random functions, you should make your analysis reproducible by using the `np.random.seed()` function\n"
   ]
  },
  {
   "cell_type": "markdown",
   "id": "338a3e60",
   "metadata": {},
   "source": [
    "## Make Hypothesis\n",
    "Ho:p=1/2\n",
    "The null hypothesis, H0 is half of the pupils are able to properly identify the order of milk and tea, which is the same as what would be predicted by chance.\n",
    "Ha:p>0\n",
    "THe alternative hypothesis, Ha is more students than would be predicted by chance are able to correctly identify the order of milk and tea."
   ]
  },
  {
   "cell_type": "markdown",
   "id": "adde749a",
   "metadata": {},
   "source": [
    "## Test Statistics\n",
    "sample size,n =80\n",
    "number of correct response,x:49 times\n",
    "observed proportion p=x/n=49/80=0.6125\n"
   ]
  },
  {
   "cell_type": "code",
   "execution_count": 2,
   "id": "1c53e2a1",
   "metadata": {},
   "outputs": [
    {
     "data": {
      "image/png": "[encoded data removed]",
      "text/plain": [
       "<Figure size 640x480 with 1 Axes>"
      ]
     },
     "metadata": {},
     "output_type": "display_data"
    },
    {
     "name": "stdout",
     "output_type": "stream",
     "text": [
      "P-value: 0.0294\n"
     ]
    }
   ],
   "source": [
    "# Set the seed for reproducibility\n",
    "np.random.seed(42)\n",
    "\n",
    "# Parameters\n",
    "n = 80  # total number of students\n",
    "x = 49  # number of correct identifications\n",
    "p_null = 0.5  # null hypothesis proportion\n",
    "\n",
    "# Simulate the null hypothesis distribution\n",
    "num_simulations = 10000\n",
    "simulated_successes = np.random.binomial(n, p_null, num_simulations)\n",
    "\n",
    "# Calculate the p-value\n",
    "p_value = np.mean(simulated_successes >= x)\n",
    "\n",
    "# Plotting the distribution\n",
    "plt.hist(simulated_successes, bins=30, alpha=0.7, color='blue', density=True)\n",
    "plt.axvline(x, color='red', linestyle='dashed', linewidth=2, label='Observed Successes')\n",
    "plt.title('Null Hypothesis Distribution of Correct Identifications')\n",
    "plt.xlabel('Number of Correct Identifications')\n",
    "plt.ylabel('Density')\n",
    "plt.legend()\n",
    "plt.show()\n",
    "\n",
    "# Print the p-value\n",
    "print(f\"P-value: {p_value}\")\n"
   ]
  },
  {
   "cell_type": "markdown",
   "id": "729f2f0f",
   "metadata": {},
   "source": [
    "In common, the significance level is 0.05. Because the p-value=0.0294<0.05, we have evidence to reject this null hypothesis. In this situation, not half of the pupils are able to properly identify the order of milk and tea."
   ]
  },
  {
   "cell_type": "markdown",
   "id": "72847981",
   "metadata": {},
   "source": [
    "# Summary\n",
    "Project Overview: We discussed the famous statistical experiment involving Ronald Fisher and Dr. Muriel Bristol, where Bristol claimed she could distinguish between tea with milk added first and tea with milk added afterward. Fisher's experiment was designed to test whether her ability was due to chance or a real skill.\n",
    "\n",
    "For your homework, a similar experiment was conducted with 80 STA130 students, 49 of whom correctly identified whether milk or tea was poured first. The task was to perform a statistical analysis of the experiment using hypothesis testing.\n",
    "\n",
    "Key Elements Discussed:\n",
    "Introduction:\n",
    "Explained the relationship between Fisher’s original tea experiment and your experiment with STA130 students.\n",
    "Noted that the experiment's population is different: while Fisher tested one individual (Dr. Bristol), your experiment involved a random sample of 80 students.\n",
    "Null and Alternative Hypotheses:\n",
    "Null Hypothesis (H₀): The proportion of students who correctly identified the pouring order is 50%, indicating random guessing.\n",
    "Formal: H0:p=0.5\n",
    "Informal: Students are simply guessing whether milk or tea was poured first.\n",
    "Alternative Hypothesis (H₁): The proportion of correct answers is greater than 50%, suggesting the students can detect a difference.\n",
    "Formal: \n",
    "H1:p>0.5\n",
    "\n",
    "Quantitative Analysis:\n",
    "Discussed using a binomial test to evaluate the null hypothesis, calculating whether the observed 49 correct responses (out of 80) are statistically greater than random guessing.\n",
    "Described calculating a 95% confidence interval for the proportion of students who can correctly identify the pouring order.\n",
    "Methodology and Code:\n",
    "A Python-based approach was outlined to conduct the hypothesis test, including calculating the p-value using the binomial test and determining a confidence interval.\n",
    "A code snippet was provided for conducting the analysis with proper explanations of each step.\n",
    "Findings and Discussion:\n",
    "Outlined how the p-value and confidence interval results would determine whether the null hypothesis could be rejected.\n",
    "If the p-value is small (e.g., \n",
    "p<0.05), it suggests that students are not just guessing and can distinguish the pouring order.\n",
    "Conclusion:\n",
    "Explained the criteria for rejecting or failing to reject the null hypothesis based on the p-value.\n",
    "Emphasized how this statistical approach applies to the experiment, using classical hypothesis testing methods to explore a real-world claim."
   ]
  },
  {
   "cell_type": "markdown",
   "id": "c53403df",
   "metadata": {},
   "source": [
    "# Link\n",
    "https://chatgpt.com/share/670eef7f-3aa4-800f-936a-1d043796376a"
   ]
  },
  {
   "cell_type": "markdown",
   "id": "bdae7e80",
   "metadata": {},
   "source": [
    "### 9. Have you reviewed the course wiki-textbook and interacted with a ChatBot (or, if that wasn't sufficient, real people in the course piazza discussion board or TA office hours) to help you understand all the material in the tutorial and lecture that you didn't quite follow when you first saw it?<br>\n",
    "    \n",
    "<details class=\"details-example\"><summary style=\"color:blue\"><u>Further Guidance</u></summary>\n",
    " \n",
    ">  _Here is the link of [wiki-textbook](https://github.com/pointOfive/stat130chat130/wiki) in case it gets lost among all the information you need to keep track of_  : )\n",
    ">    \n",
    "> _Just answering \"Yes\" or \"No\" or \"Somewhat\" or \"Mostly\" or whatever here is fine as this question isn't a part of the rubric; but, the midterm and final exams may ask questions that are based on the tutorial and lecture materials; and, your own skills will be limited by your familiarity with these materials (which will determine your ability to actually do actual things effectively with these skills... like the course project...)_\n",
    "    \n",
    "</details>\n",
    "\n",
    "_**Don't forget to ask for summaries of your ChatBot session(s) and paste these into your homework notebook (including link(s) to chat log histories if you're using ChatGPT)!**_ **But if you're using the STA130 custom NBLM ChatBot, you'll only be able to ask for summaries, of course!**"
   ]
  },
  {
   "cell_type": "markdown",
   "id": "5a889b9e",
   "metadata": {},
   "source": [
    "Yes"
   ]
  },
  {
   "cell_type": "markdown",
   "id": "c6aab1be",
   "metadata": {},
   "source": [
    "# Recommended Additional Useful Activities [Optional]\n",
    "\n",
    "The \"Ethical Profesionalism Considerations\" and \"Current Course Project Capability Level\" sections below **are not a part of the required homework assignment**; rather, they are regular weekly guides covering (a) relevant considerations regarding professional and ethical conduct, and (b) the analysis steps for the STA130 course project that are feasible at the current stage of the course \n",
    "\n",
    "<br>\n",
    "<details class=\"details-example\"><summary style=\"color:blue\"><u>Ethical Professionalism Considerations</u></summary>\n",
    "    \n",
    "### Ethical Professionalism Considerations\n",
    "    \n",
    "Using p-values and hypothesis testing appropriately is an important ethical and professional responsibility of anyone doing data analysis. Actually, there is quite the quiet Contra-Versy (or is it Con-TROV-ersy?) around p-values. First, on a general level, it seems quite clear that p-values and hypothesis testing methodologies MUST play some ongoing contributing role in the so-called \"replication crisis\" rampantly afflicting mordern science; namely, \"significant findings\" made in scientific studies are not able to be reproduced by future studies at an alarming rate; and, this whole paradigm of \"significant findings\" is based on p-values and hypothesis testing... so, something's going on with this methodology in some way...\n",
    "    \n",
    "More specifically however, p-values are themselves quite problematic. To see this, just briefly consider the following article titles...\n",
    "\n",
    "- [Why are p-values controversial?](https://www.tandfonline.com/doi/full/10.1080/00031305.2016.1277161) \n",
    "- [What a nerdy debate about p-values shows about science and how to fix it](https://www.vox.com/science-and-health/2017/7/31/16021654/p-values-statistical-significance-redefine-0005)\n",
    "- [The reign of the p-value is over: what alternative analyses could we employ to fill the power vacuum?](https://royalsocietypublishing.org/doi/10.1098/rsbl.2019.0174)\n",
    "- [Scientists rise up against statistical significance](https://www.nature.com/articles/d41586-019-00857-9)\n",
    "- [Statistics experts urge scientists to rethink the p-value](https://www.spectrumnews.org/news/statistics-experts-urge-scientists-rethink-p-value)\n",
    "\n",
    "While the issues here are relatively advanced and subtle (as introduced [here](https://www2.stat.duke.edu/~berger/p-values.html), presented [here](https://www.jarad.me/courses/stat587Eng/slides/Inference/I06-Pvalues/why_pvalues_dont_mean_what_you_think_they_mean.pdf), and demonstrated using simulation [here](https://jaradniemi.shinyapps.io/pvalue/)), the problem essentially comes down to the fact that most scientists (or just people) don't know how to really interpret the numeric value of a p-value. There are therefore two current proposed solutions to address this challenge.\n",
    "    \n",
    "1. Just interpreting p-values using the follwing table (which really isn't that hard, so it's surprising that this solution isn't more broadly adopted...)\n",
    "    \n",
    "|p-value|Evidence|\n",
    "|-|-|\n",
    "|$$p > 0.1$$|No evidence against the null hypothesis|\n",
    "|$$0.1 \\ge p > 0.05$$|Weak evidence against the null hypothesis|\n",
    "|$$0.05 \\ge p > 0.01$$|Moderate evidence against the null hypothesis|\n",
    "|$$0.01 \\ge p > 0.001$$|Strong evidence against the null hypothesis|\n",
    "|$$0.001 \\ge p$$|Very strong evidence against the null hypothesis|\n",
    "    \n",
    "\n",
    "2. Only do **hypothesis testing** on the basis of confidence intervals, not **p-values** (which might be the best solution wherever doing so is a realistic, convenient  possibility...)\n",
    "\n",
    "With this quite broad introductory context in mind, what does your favorite ChatBot thinks about the following statements? \n",
    "    \n",
    "1. Hypothesis testing is not a \"mathematical proof\"<br><br>\n",
    "\n",
    "    1. We do not prove $H_0$ false, we instead give evidence against the $H_0$: \"We reject the null hypothesis with a p-value of XYZ, meaning we have ABC evidence against the null hypothesis\"\n",
    "    2. We do not prove $H_0$ is true, we instead do not have evidence to reject $H_0$: \"We fail to reject the null hypothesis with a p-value of XYZ\"<br><br>\n",
    "\n",
    "2. Implying that a \"non-significant result\" means there is \"no effect\" misleads an audience because this may in actual fact simply indicate that there was insufficient evidence to reject the null hypothesis. So this therefore overlooks the possibility of sample size limitations, or Type II errors (which means a test incorrectly concludes that there is no effect or difference when, in fact, there is one). \n",
    "    \n",
    "> Similarly, analagously, a \"significant result\" used to reject the null hypothsis could alternatively be a Type I error (which means a test actually incorrectly rejected a null hypothesis when it was actually true)... we're only providing a measure of evidence against the null hypothesis... but the evidence could still incorrectly suggest the wrong conclusion... it really depends on how strong the evidence is...\n",
    ">\n",
    "> - all of which is why just interpreting p-values using the table above is a good idea...\n",
    "\n",
    "3. The p-values used for hypothesis testing are contructed upone the assumptions of the null hypotheses they correspond to; but, null hypotheses are actually often presented in simple forms that routinely hide a lot of information that is implicitly used to construct the p-values. For example, distributional assumptions about the population, estimated \"plug-in\" values that can used to simplify the problem calculations, and the reliance upon \"random sampling\", etc...<br><br>\n",
    "           \n",
    "4. Drawing overly broad conclusions, or making recommendations based on findings that reject the null hypothesis in a specific context is fraught with the problematic risks of overgeneralization errors. Further exacerbating this issue, null hypotheses are typically so called \"point null hypotheses\" which is meant to emphasize that they are mathematically increadibly sharply specific; whereas, alternative hypotheses are usually very unspecific. An alternative hypothesis that \"the null hypothesis is false\" doesn't say much... we should wonder, \"how, specfically, is the null false?\"\n",
    "    \n",
    "As an example really giving a demonstrating this, consider rejecting a null hypothesis that there is no correlation between rain and pizza's delivered. Such a decision doesn't specify what the actual hypothetical correlation might be. In fact, it doesn't even indicate if there are more or less pizzas delivered when it rains... \n",
    "\n",
    "> which, actually, shows very clearly why statistical inference using hypothesis testing is inferior to statistical inference based on confidence intervals...\n",
    "> \n",
    "> - a confidence interval provides a range of plausible values of what the parameter in question might be; whereas, ...\n",
    "> - trying to more clearly address what the plausible values of the parameter in question might be on the basis of hypothesis testing would require conducting further experiements to continously reject increasingly detailed hypothesies to narrow down what the alternative hypothesis might actually include... which would indeed be an utterly vapid misuse of the intended purpose of hypothesis testing entrprise... \n",
    "    \n",
    "</details>\n",
    "\n",
    "<details class=\"details-example\"><summary style=\"color:blue\"><u>Current Course Project Capability Level</u></summary>\n",
    "    \n",
    "### Current Course Project Capability Level\n",
    "    \n",
    "**Remember to abide by the [data use agreement](https://static1.squarespace.com/static/60283c2e174c122f8ebe0f39/t/6239c284d610f76fed5a2e69/1647952517436/Data+Use+Agreement+for+the+Canadian+Social+Connection+Survey.pdf) at all times.**\n",
    "\n",
    "Information about the course project is available on the course github repo [here](https://github.com/pointOfive/stat130chat130/tree/main/CP), including a draft [course project specfication](https://github.com/pointOfive/stat130chat130/blob/main/CP/STA130F23_course_project_specification.ipynb) (subject to change). \n",
    "- The Week 01 HW introduced [STA130F24_CourseProject.ipynb](https://github.com/pointOfive/stat130chat130/blob/main/CP/STA130F24_CourseProject.ipynb), and the [available variables](https://drive.google.com/file/d/1ISVymGn-WR1lcRs4psIym2N3or5onNBi/view). \n",
    "- Please do not download the [data](https://drive.google.com/file/d/1mbUQlMTrNYA7Ly5eImVRBn16Ehy9Lggo/view) accessible at the bottom of the [CSCS](https://casch.org/cscs) webpage (or the course github repo) multiple times.\n",
    "    \n",
    "> ### NEW DEVELOPMENT<br>New Abilities Achieved and New Levels Unlocked!!!    \n",
    "> **As noted, the Week 01 HW introduced the [STA130F24_CourseProject.ipynb](https://github.com/pointOfive/stat130chat130/blob/main/CP/STA130F24_CourseProject.ipynb) notebook.** _And there it instructed students to explore the notebook through the first 16 cells of the notebook._ The following cell in that notebook (there marked as \"run cell 17\") is preceded by an introductory section titled, \"**Now for some comparisons...**\", _**and all material from that point on provides an example to allow you to start applying what you're learning about Hypothesis Testing to the CSCS data**_ as now suggested next below.\n",
    "\n",
    "    \n",
    "At this point in the course there should be two kinds of hypothesis testing analyses you should be able to use to provide evidence against a null hypothesis (about some of the interesting columns from the Canadian Social Connection Survey data):\n",
    "    \n",
    "1. Any \"before and after\" data that can be made into differences can be used to test a null hypothesis of \"no effect\" of an intervention on the average change in the population (as illustrated through the example of the Week 5 TUT **Demo**)\n",
    "    \n",
    "2. Any binary data that could be approached analagously to the \"Stella's Wheel of Destiny\" example of the Week 5 TUT **Communication Activity** can be used to test a null hypothesis about the (population) chance of success `p` (using a `np.random.choice([0,1], p)` population to simulate the sampling distribution under the null)\n",
    "    \n",
    "    1. [For Advanced Students Only] And actually, hypothesis testing for other numerical data could be approached analagously to the method based on assuming a distibution for the population (such as `stats.norm(loc=mu0, scale=x.std)` in place of `np.random.choice([0,1], p)`... if you see what this means?)\n",
    "    2. Or it could be based on seeing if a hypothesized parameter value was contained within a bootstrapped confidence interval...\n",
    "    \n",
    "\n",
    "1. How do hypothesis testing analyses correspond to bootstrapped confidence intervals? \n",
    "    \n",
    "2. Create a **null hypothesis** about a population parameter than you can test using the Canadian Social Connection Survey data\n",
    "\n",
    "3. Carry out the hypothesis test using simulation, and interpret the result of the estimated p-value relative to the null hypothesis\n",
    "    \n",
    "</details>    "
   ]
  },
  {
   "cell_type": "code",
   "execution_count": null,
   "id": "fef4f128",
   "metadata": {},
   "outputs": [],
   "source": []
  }
 ],
 "metadata": {
  "kernelspec": {
   "display_name": "Python 3 (ipykernel)",
   "language": "python",
   "name": "python3"
  },
  "language_info": {
   "codemirror_mode": {
    "name": "ipython",
    "version": 3
   },
   "file_extension": ".py",
   "mimetype": "text/x-python",
   "name": "python",
   "nbconvert_exporter": "python",
   "pygments_lexer": "ipython3",
   "version": "3.11.6"
  }
 },
 "nbformat": 4,
 "nbformat_minor": 5
}
